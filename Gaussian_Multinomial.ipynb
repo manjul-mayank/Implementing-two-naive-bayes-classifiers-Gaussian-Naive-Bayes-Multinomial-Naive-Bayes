{
  "nbformat": 4,
  "nbformat_minor": 0,
  "metadata": {
    "colab": {
      "provenance": []
    },
    "kernelspec": {
      "name": "python3",
      "display_name": "Python 3"
    },
    "language_info": {
      "name": "python"
    }
  },
  "cells": [
    {
      "cell_type": "markdown",
      "source": [
        "### **Implementation of Gaussian and Multinomial** **Classification**"
      ],
      "metadata": {
        "id": "eANqtS9Kpwsf"
      }
    },
    {
      "cell_type": "markdown",
      "source": [
        "Gaussian Classification"
      ],
      "metadata": {
        "id": "uche4G0VqA1y"
      }
    },
    {
      "cell_type": "code",
      "source": [
        "import pandas as pd\n",
        "from sklearn.model_selection import train_test_split\n",
        "from sklearn.naive_bayes import GaussianNB\n",
        "from sklearn.metrics import accuracy_score, classification_report\n",
        "from sklearn.preprocessing import LabelEncoder\n",
        "import numpy as np\n",
        "import time\n",
        "\n",
        "# Load training data from a CSV file\n",
        "train_data = pd.read_csv('/content/drive/MyDrive/Artificial Intelligence - Assignment Dataset/SalaryData_Train.csv')\n",
        "\n",
        "# Load testing data from a CSV file\n",
        "test_data = pd.read_csv('/content/drive/MyDrive/Artificial Intelligence - Assignment Dataset/SalaryData_Test.csv')\n",
        "\n",
        "# Extract 'Salary' as the label to predict\n",
        "y_train = train_data['Salary']\n",
        "y_test = test_data['Salary']\n",
        "\n",
        "# Encode the non-integer labels into numerical values\n",
        "label_encoder = LabelEncoder()\n",
        "y_train = label_encoder.fit_transform(y_train)\n",
        "y_test = label_encoder.transform(y_test)\n",
        "\n",
        "# Create a placeholder feature for training\n",
        "X_train = np.zeros((len(y_train), 1))\n",
        "X_test = np.zeros((len(y_test), 1))\n",
        "\n",
        "# Create a Gaussian Naive Bayes classifier\n",
        "gnb = GaussianNB()\n",
        "start_time = time.time()\n",
        "\n",
        "# Train the classifier on the placeholder feature and labels\n",
        "gnb.fit(X_train, y_train)\n",
        "gnb_time = time.time() - start_time\n",
        "\n",
        "# Make predictions on the test data (use a placeholder feature)\n",
        "y_pred = gnb.predict(X_test)\n",
        "gnb_time = time.time() - start_time\n",
        "# Calculate the accuracy of the classifier\n",
        "accuracy = accuracy_score(y_test, y_pred)\n",
        "print(\"Accuracy:\", accuracy)\n",
        "\n",
        "# Print a classification report for additional evaluation metrics\n",
        "report = classification_report(y_test, y_pred)\n",
        "print(\"Classification Report of Gaussian Classifier:\\n\",report)\n",
        "print(\"Time taken by Gaussian Classifier :\",gnb_time, \"\\n\")\n"
      ],
      "metadata": {
        "colab": {
          "base_uri": "https://localhost:8080/"
        },
        "id": "p6sDW0eshOC3",
        "outputId": "861bd08b-c737-4935-e833-173d4a3bac22"
      },
      "execution_count": 27,
      "outputs": [
        {
          "output_type": "stream",
          "name": "stdout",
          "text": [
            "Accuracy: 0.7543160690571049\n",
            "Classification Report of Gaussian Classifier:\n",
            "               precision    recall  f1-score   support\n",
            "\n",
            "           0       0.75      1.00      0.86     11360\n",
            "           1       0.00      0.00      0.00      3700\n",
            "\n",
            "    accuracy                           0.75     15060\n",
            "   macro avg       0.38      0.50      0.43     15060\n",
            "weighted avg       0.57      0.75      0.65     15060\n",
            "\n",
            "Time taken by Gaussian Classifier : 0.01977372169494629 \n",
            "\n"
          ]
        },
        {
          "output_type": "stream",
          "name": "stderr",
          "text": [
            "/usr/local/lib/python3.10/dist-packages/sklearn/naive_bayes.py:515: RuntimeWarning: divide by zero encountered in log\n",
            "  n_ij = -0.5 * np.sum(np.log(2.0 * np.pi * self.var_[i, :]))\n",
            "/usr/local/lib/python3.10/dist-packages/sklearn/naive_bayes.py:516: RuntimeWarning: invalid value encountered in divide\n",
            "  n_ij -= 0.5 * np.sum(((X - self.theta_[i, :]) ** 2) / (self.var_[i, :]), 1)\n",
            "/usr/local/lib/python3.10/dist-packages/sklearn/metrics/_classification.py:1344: UndefinedMetricWarning: Precision and F-score are ill-defined and being set to 0.0 in labels with no predicted samples. Use `zero_division` parameter to control this behavior.\n",
            "  _warn_prf(average, modifier, msg_start, len(result))\n",
            "/usr/local/lib/python3.10/dist-packages/sklearn/metrics/_classification.py:1344: UndefinedMetricWarning: Precision and F-score are ill-defined and being set to 0.0 in labels with no predicted samples. Use `zero_division` parameter to control this behavior.\n",
            "  _warn_prf(average, modifier, msg_start, len(result))\n",
            "/usr/local/lib/python3.10/dist-packages/sklearn/metrics/_classification.py:1344: UndefinedMetricWarning: Precision and F-score are ill-defined and being set to 0.0 in labels with no predicted samples. Use `zero_division` parameter to control this behavior.\n",
            "  _warn_prf(average, modifier, msg_start, len(result))\n"
          ]
        }
      ]
    },
    {
      "cell_type": "markdown",
      "source": [
        "Multinomial Classification"
      ],
      "metadata": {
        "id": "VxFHjCPBqIxl"
      }
    },
    {
      "cell_type": "code",
      "execution_count": 26,
      "metadata": {
        "colab": {
          "base_uri": "https://localhost:8080/"
        },
        "id": "8OFEI7RafokE",
        "outputId": "4718a8f5-b99c-4b66-f8e1-7ece2bbdeb77"
      },
      "outputs": [
        {
          "output_type": "stream",
          "name": "stdout",
          "text": [
            "Accuracy: 0.8146082337317397\n",
            "Classification Report of Multinomial CLassifier:\n",
            "\n",
            "              precision    recall  f1-score   support\n",
            "\n",
            "       <=50K       0.93      0.81      0.87     11360\n",
            "        >50K       0.59      0.82      0.68      3700\n",
            "\n",
            "    accuracy                           0.81     15060\n",
            "   macro avg       0.76      0.82      0.78     15060\n",
            "weighted avg       0.85      0.81      0.82     15060\n",
            "\n",
            "Time taken by Multinomial Classifier : 0.08592033386230469\n"
          ]
        }
      ],
      "source": [
        "import pandas as pd\n",
        "from sklearn.feature_extraction.text import CountVectorizer\n",
        "from sklearn.naive_bayes import MultinomialNB\n",
        "from sklearn.metrics import accuracy_score, classification_report\n",
        "import time\n",
        "\n",
        "# Load the training data from a CSV file\n",
        "train_data = pd.read_csv('/content/drive/MyDrive/Artificial Intelligence - Assignment Dataset/SalaryData_Train.csv')\n",
        "\n",
        "# Replace missing values (NaN) with a placeholder value, e.g., an empty string\n",
        "train_data = train_data.fillna('')\n",
        "\n",
        "# Assuming the \"Salary\" column contains the target labels\n",
        "salary_labels_train = train_data['Salary']\n",
        "\n",
        "# Drop the \"Salary\" column from the feature data\n",
        "feature_data_train = train_data.drop('Salary', axis=1)\n",
        "\n",
        "# Convert the feature data into a single text column\n",
        "corpus_train = feature_data_train.apply(lambda row: ' '.join(row.values.astype(str)), axis=1)\n",
        "\n",
        "# Load the testing data from a CSV file\n",
        "test_data = pd.read_csv('/content/drive/MyDrive/Artificial Intelligence - Assignment Dataset/SalaryData_Test.csv')\n",
        "\n",
        "# Replace missing values (NaN) with a placeholder value\n",
        "test_data = test_data.fillna('')\n",
        "\n",
        "# Assuming the \"Salary\" column contains the target labels\n",
        "salary_labels_test = test_data['Salary']\n",
        "# Drop the \"Salary\" column from the feature data\n",
        "feature_data_test = test_data.drop('Salary', axis=1)\n",
        "\n",
        "# Convert the feature data into a single text column\n",
        "corpus_test = feature_data_test.apply(lambda row: ' '.join(row.values.astype(str)), axis=1)\n",
        "\n",
        "# Create a CountVectorizer to convert text data into numerical features\n",
        "vectorizer = CountVectorizer()\n",
        "X_train = vectorizer.fit_transform(corpus_train)\n",
        "X_test = vectorizer.transform(corpus_test)\n",
        "\n",
        "# Create and train the Multinomial Naive Bayes classifier\n",
        "clf = MultinomialNB()\n",
        "start_time = time.time()\n",
        "clf.fit(X_train, salary_labels_train)\n",
        "\n",
        "\n",
        "# Make predictions on the test data\n",
        "salary_predictions = clf.predict(X_test)\n",
        "mnb_time = time.time() - start_time\n",
        "\n",
        "# Calculate and print the accuracy of the classifier\n",
        "accuracy = accuracy_score(salary_labels_test, salary_predictions)\n",
        "print(\"Accuracy:\", accuracy)\n",
        "\n",
        "# Print a classification report\n",
        "print(\"Classification Report of Multinomial CLassifier:\\n\")\n",
        "print(classification_report(salary_labels_test, salary_predictions))\n",
        "print(\"Time taken by Multinomial Classifier :\",mnb_time)\n"
      ]
    }
  ]
}